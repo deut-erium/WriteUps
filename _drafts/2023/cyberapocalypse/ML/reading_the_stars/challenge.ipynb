{
 "cells": [
  {
   "cell_type": "code",
   "execution_count": null,
   "metadata": {
    "cell_id": "888ef7b8db0143c4abf63348c582ffa7",
    "deepnote_app_coordinates": {
     "h": 16,
     "w": 12,
     "x": 0,
     "y": 6
    },
    "deepnote_cell_type": "code",
    "deepnote_to_be_reexecuted": false,
    "execution_millis": 2006,
    "execution_start": 1678285664107,
    "source_hash": "d1ecb257",
    "tags": []
   },
   "outputs": [],
   "source": [
    "import numpy as np\n",
    "import matplotlib.pyplot as plt\n",
    "import matplotlib\n",
    "\n",
    "import torch\n",
    "from torch import nn\n",
    "from torchvision import transforms\n",
    "preprocess = transforms.Compose([\n",
    "    transforms.Normalize(\n",
    "        mean=np.array([0.1086, 0.0934, 0.0711]),\n",
    "        std=np.array([0.1472, 0.123, 0.1032]))\n",
    "])\n",
    "\n",
    "import h5py\n",
    "\n",
    "SEED = 1337\n",
    "torch.manual_seed(SEED)\n",
    "np.random.seed(SEED)\n",
    "torch.use_deterministic_algorithms(True)\n",
    "\n",
    "from model import StarChartModel, StarData"
   ]
  },
  {
   "cell_type": "code",
   "execution_count": null,
   "metadata": {
    "cell_id": "8688086be0924bc1ac32923003ba0eef",
    "deepnote_app_coordinates": {
     "h": 5,
     "w": 12,
     "x": 0,
     "y": 23
    },
    "deepnote_cell_type": "code",
    "deepnote_to_be_reexecuted": false,
    "execution_millis": 296,
    "execution_start": 1678285666114,
    "source_hash": "cc097ebf",
    "tags": []
   },
   "outputs": [],
   "source": [
    "with h5py.File(\"train.1.h5\", \"r\") as F:\n",
    "    train_images1 = np.array(F[\"X\"])\n",
    "    train_labels1 = np.array(F[\"y\"])\n",
    "with h5py.File(\"train.2.h5\", \"r\") as F:\n",
    "    train_images2 = np.array(F[\"X\"])\n",
    "    train_labels2 = np.array(F[\"y\"])\n",
    "train_images = np.concatenate((train_images1, train_images2))\n",
    "train_labels = np.concatenate((train_labels1, train_labels2))"
   ]
  },
  {
   "cell_type": "code",
   "execution_count": null,
   "metadata": {
    "cell_id": "88421b5f96204c07bad50bcb5353e295",
    "deepnote_app_coordinates": {
     "h": 6,
     "w": 12,
     "x": 0,
     "y": 29
    },
    "deepnote_cell_type": "code",
    "deepnote_to_be_reexecuted": false,
    "execution_millis": 364,
    "execution_start": 1678285666411,
    "source_hash": "76bc7c78",
    "tags": []
   },
   "outputs": [],
   "source": [
    "batch_size = 32\n",
    "train_set = StarData((train_images.transpose(0,3,1,2)/255), train_labels, transform=preprocess)\n",
    "train_loader = torch.utils.data.DataLoader(train_set, batch_size=batch_size,\n",
    "    shuffle=True, num_workers=1, pin_memory=True)"
   ]
  },
  {
   "cell_type": "code",
   "execution_count": null,
   "metadata": {
    "cell_id": "a8879eef501d4a499f3ad5a0c6abc27f",
    "deepnote_app_coordinates": {
     "h": 3,
     "w": 12,
     "x": 0,
     "y": 36
    },
    "deepnote_cell_type": "code",
    "deepnote_to_be_reexecuted": false,
    "execution_millis": 4,
    "execution_start": 1678285666776,
    "source_hash": "bad507f7",
    "tags": []
   },
   "outputs": [],
   "source": [
    "flag = np.zeros((33,33))"
   ]
  },
  {
   "cell_type": "code",
   "execution_count": null,
   "metadata": {
    "cell_id": "47f7c61bf5f641639e244778ce94f8fb",
    "deepnote_cell_type": "code",
    "tags": []
   },
   "outputs": [],
   "source": [
    "model = StarChartModel([0.3,0.15])\n",
    "model.train()\n",
    "\n",
    "loss_func = nn.CrossEntropyLoss()\n",
    "optimizer = torch.optim.Adam(model.parameters(), 0.0005)"
   ]
  }
 ],
 "metadata": {
  "deepnote": {},
  "deepnote_app_layout": "article",
  "deepnote_execution_queue": [],
  "deepnote_notebook_id": "19b7cbf3eabc432d8a95d377aff22e0c",
  "kernelspec": {
   "display_name": "Python 3",
   "language": "python",
   "name": "python3"
  },
  "language_info": {
   "codemirror_mode": {
    "name": "ipython",
    "version": 3
   },
   "file_extension": ".py",
   "mimetype": "text/x-python",
   "name": "python",
   "nbconvert_exporter": "python",
   "pygments_lexer": "ipython3",
   "version": "3.6.13"
  }
 },
 "nbformat": 4,
 "nbformat_minor": 1
}
